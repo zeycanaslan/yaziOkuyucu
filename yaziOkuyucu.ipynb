{
 "cells": [
  {
   "cell_type": "code",
   "execution_count": null,
   "id": "d3da100b",
   "metadata": {},
   "outputs": [],
   "source": [
    "import pyttsx3\n",
    "import PyPDF2\n",
    "\n",
    "# Open the PDF file in binary mode\n",
    "hikaye = open(\"okunmasını istediğimiz dosyanın adını gireriz \", \"rb\")\n",
    "\n",
    "# Create a PdfReader object\n",
    "pdfokuyucu = PyPDF2.PdfReader(hikaye)\n",
    "\n",
    "# Initialize the text-to-speech engine\n",
    "engine = pyttsx3.init()\n",
    "voices = engine.getProperty('voices')\n",
    "\n",
    "# Set the voice to the first available voice\n",
    "engine.setProperty('voice', voices[0].id)\n",
    "\n",
    "# Iterate through the pages and read the text\n",
    "for sayfanosu in range(len(pdfokuyucu.pages)):\n",
    "    sayfa = pdfokuyucu.pages[sayfanosu]\n",
    "    yazi = sayfa.extract_text()\n",
    "    engine.say(yazi)\n",
    "    engine.runAndWait()\n",
    "\n",
    "# Close the PDF file\n",
    "hikaye.close()\n"
   ]
  },
  {
   "cell_type": "code",
   "execution_count": 14,
   "id": "034bb503",
   "metadata": {},
   "outputs": [
    {
     "name": "stdout",
     "output_type": "stream",
     "text": [
      "Defaulting to user installation because normal site-packages is not writeable\n",
      "Collecting pyttsx3\n",
      "  Downloading pyttsx3-2.90-py3-none-any.whl (39 kB)\n",
      "Collecting comtypes (from pyttsx3)\n",
      "  Obtaining dependency information for comtypes from https://files.pythonhosted.org/packages/c2/a7/fe4bd49b5c4afa7a7ed3852abda6909e48c00715e6a134e47055381113aa/comtypes-1.2.0-py2.py3-none-any.whl.metadata\n",
      "  Downloading comtypes-1.2.0-py2.py3-none-any.whl.metadata (3.7 kB)\n",
      "Collecting pypiwin32 (from pyttsx3)\n",
      "  Downloading pypiwin32-223-py3-none-any.whl (1.7 kB)\n",
      "Requirement already satisfied: pywin32 in c:\\programdata\\anaconda3\\lib\\site-packages (from pyttsx3) (305.1)\n",
      "Downloading comtypes-1.2.0-py2.py3-none-any.whl (184 kB)\n",
      "   ---------------------------------------- 0.0/184.3 kB ? eta -:--:--\n",
      "   ---------------------------------------- 0.0/184.3 kB ? eta -:--:--\n",
      "   ---------------------------------------- 0.0/184.3 kB ? eta -:--:--\n",
      "   ---------------------------------------- 0.0/184.3 kB ? eta -:--:--\n",
      "   ---------------------------------------- 0.0/184.3 kB ? eta -:--:--\n",
      "   ---------------------------------------- 0.0/184.3 kB ? eta -:--:--\n",
      "   ---------------------------------------- 0.0/184.3 kB ? eta -:--:--\n",
      "   ---------------------------------------- 0.0/184.3 kB ? eta -:--:--\n",
      "   ---------------------------------------- 0.0/184.3 kB ? eta -:--:--\n",
      "   ---------------------------------------- 0.0/184.3 kB ? eta -:--:--\n",
      "   -------- ------------------------------- 41.0/184.3 kB ? eta -:--:--\n",
      "   -------- ------------------------------- 41.0/184.3 kB ? eta -:--:--\n",
      "   -------- ------------------------------- 41.0/184.3 kB ? eta -:--:--\n",
      "   -------- ------------------------------- 41.0/184.3 kB ? eta -:--:--\n",
      "   -------- ------------------------------- 41.0/184.3 kB ? eta -:--:--\n",
      "   -------- ------------------------------- 41.0/184.3 kB ? eta -:--:--\n",
      "   -------- ------------------------------- 41.0/184.3 kB ? eta -:--:--\n",
      "   ------------- ------------------------- 61.4/184.3 kB 164.1 kB/s eta 0:00:01\n",
      "   ------------- ------------------------- 61.4/184.3 kB 164.1 kB/s eta 0:00:01\n",
      "   ------------- ------------------------- 61.4/184.3 kB 164.1 kB/s eta 0:00:01\n",
      "   ----------------- --------------------- 81.9/184.3 kB 170.3 kB/s eta 0:00:01\n",
      "   ----------------- --------------------- 81.9/184.3 kB 170.3 kB/s eta 0:00:01\n",
      "   ----------------- --------------------- 81.9/184.3 kB 170.3 kB/s eta 0:00:01\n",
      "   ----------------- --------------------- 81.9/184.3 kB 170.3 kB/s eta 0:00:01\n",
      "   ----------------- --------------------- 81.9/184.3 kB 170.3 kB/s eta 0:00:01\n",
      "   ------------------- ------------------- 92.2/184.3 kB 119.2 kB/s eta 0:00:01\n",
      "   ------------------- ------------------- 92.2/184.3 kB 119.2 kB/s eta 0:00:01\n",
      "   ------------------- ------------------- 92.2/184.3 kB 119.2 kB/s eta 0:00:01\n",
      "   ----------------------- -------------- 112.6/184.3 kB 128.6 kB/s eta 0:00:01\n",
      "   ----------------------- -------------- 112.6/184.3 kB 128.6 kB/s eta 0:00:01\n",
      "   ----------------------- -------------- 112.6/184.3 kB 128.6 kB/s eta 0:00:01\n",
      "   ----------------------------- -------- 143.4/184.3 kB 142.1 kB/s eta 0:00:01\n",
      "   ----------------------------- -------- 143.4/184.3 kB 142.1 kB/s eta 0:00:01\n",
      "   ----------------------------- -------- 143.4/184.3 kB 142.1 kB/s eta 0:00:01\n",
      "   ----------------------------- -------- 143.4/184.3 kB 142.1 kB/s eta 0:00:01\n",
      "   --------------------------------- ---- 163.8/184.3 kB 136.5 kB/s eta 0:00:01\n",
      "   --------------------------------- ---- 163.8/184.3 kB 136.5 kB/s eta 0:00:01\n",
      "   --------------------------------- ---- 163.8/184.3 kB 136.5 kB/s eta 0:00:01\n",
      "   --------------------------------- ---- 163.8/184.3 kB 136.5 kB/s eta 0:00:01\n",
      "   --------------------------------- ---- 163.8/184.3 kB 136.5 kB/s eta 0:00:01\n",
      "   --------------------------------- ---- 163.8/184.3 kB 136.5 kB/s eta 0:00:01\n",
      "   --------------------------------- ---- 163.8/184.3 kB 136.5 kB/s eta 0:00:01\n",
      "   -------------------------------------- 184.3/184.3 kB 119.8 kB/s eta 0:00:00\n",
      "Installing collected packages: comtypes, pypiwin32, pyttsx3\n",
      "Successfully installed comtypes-1.2.0 pypiwin32-223 pyttsx3-2.90\n",
      "Note: you may need to restart the kernel to use updated packages.\n"
     ]
    }
   ],
   "source": [
    "pip install pyttsx3"
   ]
  },
  {
   "cell_type": "code",
   "execution_count": 15,
   "id": "0ca4989b",
   "metadata": {},
   "outputs": [
    {
     "name": "stdout",
     "output_type": "stream",
     "text": [
      "Defaulting to user installation because normal site-packages is not writeable\n",
      "Collecting PyPDF2\n",
      "  Downloading pypdf2-3.0.1-py3-none-any.whl (232 kB)\n",
      "     ---------------------------------------- 0.0/232.6 kB ? eta -:--:--\n",
      "     ---------------------------------------- 0.0/232.6 kB ? eta -:--:--\n",
      "     ---------------------------------------- 0.0/232.6 kB ? eta -:--:--\n",
      "     ----- ---------------------------------- 30.7/232.6 kB ? eta -:--:--\n",
      "     ----- ---------------------------------- 30.7/232.6 kB ? eta -:--:--\n",
      "     ----- ---------------------------------- 30.7/232.6 kB ? eta -:--:--\n",
      "     --------- --------------------------- 61.4/232.6 kB 328.2 kB/s eta 0:00:01\n",
      "     --------- --------------------------- 61.4/232.6 kB 328.2 kB/s eta 0:00:01\n",
      "     --------- --------------------------- 61.4/232.6 kB 328.2 kB/s eta 0:00:01\n",
      "     --------- --------------------------- 61.4/232.6 kB 328.2 kB/s eta 0:00:01\n",
      "     --------- --------------------------- 61.4/232.6 kB 328.2 kB/s eta 0:00:01\n",
      "     --------- --------------------------- 61.4/232.6 kB 328.2 kB/s eta 0:00:01\n",
      "     --------- --------------------------- 61.4/232.6 kB 328.2 kB/s eta 0:00:01\n",
      "     ------------- ----------------------- 81.9/232.6 kB 158.2 kB/s eta 0:00:01\n",
      "     ------------- ----------------------- 81.9/232.6 kB 158.2 kB/s eta 0:00:01\n",
      "     ------------- ----------------------- 81.9/232.6 kB 158.2 kB/s eta 0:00:01\n",
      "     ------------- ----------------------- 81.9/232.6 kB 158.2 kB/s eta 0:00:01\n",
      "     ------------------- ---------------- 122.9/232.6 kB 176.0 kB/s eta 0:00:01\n",
      "     ------------------- ---------------- 122.9/232.6 kB 176.0 kB/s eta 0:00:01\n",
      "     ------------------- ---------------- 122.9/232.6 kB 176.0 kB/s eta 0:00:01\n",
      "     ------------------------- ---------- 163.8/232.6 kB 204.8 kB/s eta 0:00:01\n",
      "     ------------------------- ---------- 163.8/232.6 kB 204.8 kB/s eta 0:00:01\n",
      "     ------------------------- ---------- 163.8/232.6 kB 204.8 kB/s eta 0:00:01\n",
      "     -------------------------- --------- 174.1/232.6 kB 180.8 kB/s eta 0:00:01\n",
      "     -------------------------- --------- 174.1/232.6 kB 180.8 kB/s eta 0:00:01\n",
      "     -------------------------- --------- 174.1/232.6 kB 180.8 kB/s eta 0:00:01\n",
      "     ------------------------------------ 232.6/232.6 kB 212.4 kB/s eta 0:00:00\n",
      "Installing collected packages: PyPDF2\n",
      "Successfully installed PyPDF2-3.0.1\n",
      "Note: you may need to restart the kernel to use updated packages.\n"
     ]
    }
   ],
   "source": [
    "pip install PyPDF2\n"
   ]
  },
  {
   "cell_type": "code",
   "execution_count": null,
   "id": "1c8c6294",
   "metadata": {},
   "outputs": [],
   "source": []
  }
 ],
 "metadata": {
  "kernelspec": {
   "display_name": "Python 3 (ipykernel)",
   "language": "python",
   "name": "python3"
  },
  "language_info": {
   "codemirror_mode": {
    "name": "ipython",
    "version": 3
   },
   "file_extension": ".py",
   "mimetype": "text/x-python",
   "name": "python",
   "nbconvert_exporter": "python",
   "pygments_lexer": "ipython3",
   "version": "3.11.5"
  }
 },
 "nbformat": 4,
 "nbformat_minor": 5
}
